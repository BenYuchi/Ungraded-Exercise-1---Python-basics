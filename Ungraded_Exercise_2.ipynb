{
 "cells": [
  {
   "cell_type": "markdown",
   "metadata": {},
   "source": [
    "1. Ask user to enter a string and check that it is made up only alphabets:"
   ]
  },
  {
   "cell_type": "code",
   "execution_count": 5,
   "metadata": {},
   "outputs": [
    {
     "name": "stdout",
     "output_type": "stream",
     "text": [
      "The string contains only alphabets.\n"
     ]
    }
   ],
   "source": [
    "input_word = input(\"Enter a string: \")\n",
    "\n",
    "alpha_flag = False\n",
    "\n",
    "# Loop through the input to check for alphabet\n",
    "for x in input_word:\n",
    "    if x.isalpha():\n",
    "        alpha_flag = True\n",
    "\n",
    "# Check if the condition (only alphabets) is True\n",
    "if alpha_flag and input_word.isalpha():\n",
    "    print(\"The string contains only alphabets.\")\n",
    "else:\n",
    "    print(\"The string contains non-alphabet characters.\")\n"
   ]
  },
  {
   "cell_type": "markdown",
   "metadata": {},
   "source": [
    "2. Now, make sure that the string is made up of both alphabets and numbers:\n",
    "\n",
    "TRY using isalnum() function and then entering only alhpabets in the string and see what happens."
   ]
  },
  {
   "cell_type": "code",
   "execution_count": 13,
   "metadata": {},
   "outputs": [
    {
     "name": "stdout",
     "output_type": "stream",
     "text": [
      "Valid username\n"
     ]
    }
   ],
   "source": [
    "input_word = input(\"Enter your username: \")\n",
    "\n",
    "alpha_flag = False\n",
    "number_flag = False\n",
    "\n",
    "# Loop through the input to check for alphabet and digit\n",
    "for x in input_word:\n",
    "    if x.isdigit():\n",
    "        number_flag = True\n",
    "    if x.isalpha():\n",
    "        alpha_flag = True\n",
    "\n",
    "# Check if both conditions (alphabet and digit) are True\n",
    "if not (number_flag and alpha_flag):\n",
    "    print(\"Invalid username\")\n",
    "else:\n",
    "    print(\"Valid username\")\n",
    "\n"
   ]
  },
  {
   "cell_type": "markdown",
   "metadata": {},
   "source": [
    "3. Now, make sure that the string is made up of both alphabets and at least one number:\n"
   ]
  },
  {
   "cell_type": "code",
   "execution_count": 16,
   "metadata": {},
   "outputs": [
    {
     "name": "stdout",
     "output_type": "stream",
     "text": [
      "The string is valid with both alphabets and at least one number.\n"
     ]
    }
   ],
   "source": [
    "input_word = input(\"Enter a string: \")\n",
    "\n",
    "alpha_flag = False\n",
    "number_flag = False\n",
    "\n",
    "# Loop through the input to check for alphabet and digit\n",
    "for x in input_word:\n",
    "    if x.isdigit():\n",
    "        number_flag = True\n",
    "    if x.isalpha():\n",
    "        alpha_flag = True\n",
    "\n",
    "# Check if both conditions (alphabet and digit) are True\n",
    "if not (number_flag and alpha_flag):\n",
    "    print(\"Invalid string. It must contain both alphabets and at least one number.\")\n",
    "else:\n",
    "    print(\"The string is valid with both alphabets and at least one number.\")\n",
    "\n"
   ]
  },
  {
   "cell_type": "markdown",
   "metadata": {},
   "source": [
    "4. Now, make sure that the string is made up of both alphabets, at least one number, and at least one special character:"
   ]
  },
  {
   "cell_type": "code",
   "execution_count": 21,
   "metadata": {},
   "outputs": [
    {
     "name": "stdout",
     "output_type": "stream",
     "text": [
      "The string is valid with alphabets, numbers, and a special character.\n"
     ]
    }
   ],
   "source": [
    "import string\n",
    "\n",
    "input_word = input(\"Enter a string: \")\n",
    "\n",
    "alpha_flag = False\n",
    "number_flag = False\n",
    "special_flag = False\n",
    "special_characters = string.punctuation\n",
    "\n",
    "# Loop through the input to check for alphabet, digit, and special character\n",
    "for x in input_word:\n",
    "    if x.isdigit():\n",
    "        number_flag = True\n",
    "    if x.isalpha():\n",
    "        alpha_flag = True\n",
    "    if x in special_characters:\n",
    "        special_flag = True\n",
    "\n",
    "# Check if all conditions are True (alphabet, digit, special character)\n",
    "if not (number_flag and alpha_flag and special_flag):\n",
    "    print(\"Invalid string. It must contain alphabets, numbers, and at least one special character.\")\n",
    "else:\n",
    "    print(\"The string is valid with alphabets, numbers, and a special character.\")\n"
   ]
  },
  {
   "cell_type": "markdown",
   "metadata": {},
   "source": [
    "5. Now, modify the above code so that if the user enters an invalid string, the program should ask the user to enter another string again, and keep asking until a valid string has been entered."
   ]
  },
  {
   "cell_type": "code",
   "execution_count": 22,
   "metadata": {},
   "outputs": [
    {
     "name": "stdout",
     "output_type": "stream",
     "text": [
      "Invalid string. Please try again.\n",
      "Invalid string. Please try again.\n",
      "Invalid string. Please try again.\n",
      "The string is valid with alphabets, numbers, and a special character.\n"
     ]
    }
   ],
   "source": [
    "import string\n",
    "\n",
    "def validate_string():\n",
    "    while True:\n",
    "        input_word = input(\"Enter a string: \")\n",
    "\n",
    "        alpha_flag = False\n",
    "        number_flag = False\n",
    "        special_flag = False\n",
    "        special_characters = string.punctuation\n",
    "\n",
    "        # Loop through the input to check for alphabet, digit, and special character\n",
    "        for x in input_word:\n",
    "            if x.isdigit():\n",
    "                number_flag = True\n",
    "            if x.isalpha():\n",
    "                alpha_flag = True\n",
    "            if x in special_characters:\n",
    "                special_flag = True\n",
    "\n",
    "        # Check if all conditions are True\n",
    "        if number_flag and alpha_flag and special_flag:\n",
    "            print(\"The string is valid with alphabets, numbers, and a special character.\")\n",
    "            break\n",
    "        else:\n",
    "            print(\"Invalid string. Please try again.\")\n",
    "\n",
    "validate_string()\n"
   ]
  }
 ],
 "metadata": {
  "kernelspec": {
   "display_name": "Python 3",
   "language": "python",
   "name": "python3"
  },
  "language_info": {
   "codemirror_mode": {
    "name": "ipython",
    "version": 3
   },
   "file_extension": ".py",
   "mimetype": "text/x-python",
   "name": "python",
   "nbconvert_exporter": "python",
   "pygments_lexer": "ipython3",
   "version": "3.11.9"
  }
 },
 "nbformat": 4,
 "nbformat_minor": 2
}
